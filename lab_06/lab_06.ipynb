{
 "cells": [
  {
   "cell_type": "code",
   "execution_count": 1,
   "metadata": {},
   "outputs": [
    {
     "name": "stderr",
     "output_type": "stream",
     "text": [
      "[nltk_data] Downloading package stopwords to\n",
      "[nltk_data]     C:\\Users\\edorj\\AppData\\Roaming\\nltk_data...\n",
      "[nltk_data]   Package stopwords is already up-to-date!\n"
     ]
    },
    {
     "data": {
      "text/plain": [
       "True"
      ]
     },
     "execution_count": 1,
     "metadata": {},
     "output_type": "execute_result"
    }
   ],
   "source": [
    "import pandas as pd\n",
    "from sklearn.feature_extraction.text import TfidfVectorizer\n",
    "from sklearn.naive_bayes import MultinomialNB\n",
    "from sklearn.model_selection import train_test_split\n",
    "from sklearn.metrics import confusion_matrix, ConfusionMatrixDisplay, classification_report\n",
    "from nltk.corpus import stopwords\n",
    "import nltk\n",
    "import string\n",
    "import contractions\n",
    "nltk.download('stopwords')"
   ]
  },
  {
   "cell_type": "code",
   "execution_count": 2,
   "metadata": {},
   "outputs": [],
   "source": [
    "def _importData():\n",
    "    global ds\n",
    "    ds = pd.read_csv('spam.csv', encoding='ISO-8859-1')\n"
   ]
  },
  {
   "cell_type": "code",
   "execution_count": 3,
   "metadata": {},
   "outputs": [],
   "source": [
    "def _preprocess():\n",
    "    num_rows = len(ds)\n",
    "    stop_words = set(stopwords.words('english'))\n",
    "\n",
    "    for row in range(num_rows):\n",
    "        processed_words=[]\n",
    "        for word in ds.loc[row, 'message'].split():\n",
    "            expanded_words = contractions.fix(word)\n",
    "            word_without_punct = expanded_words.translate(str.maketrans('', '', string.punctuation))\n",
    "            word_lowercase = word_without_punct.lower()\n",
    "            for single_word in word_lowercase.split():\n",
    "                if single_word not in stop_words:\n",
    "                    processed_words.append(single_word)\n",
    "        ds.loc[row, 'message'] = ' '.join(processed_words)\n",
    "# Before\n",
    "# <5572x8710 sparse matrix of type '<class 'numpy.float64'>'\n",
    "# with 74165 stored elements in Compressed Sparse Row format>\n",
    "# After\n",
    "# <5572x9326 sparse matrix of type '<class 'numpy.float64'>'\n",
    "# with 45518 stored elements in Compressed Sparse Row format>"
   ]
  },
  {
   "cell_type": "code",
   "execution_count": 4,
   "metadata": {},
   "outputs": [],
   "source": [
    "def _changelabel():\n",
    "    global y, x\n",
    "    ds['label'] = ds.label.map({'ham':0, 'spam':1})\n",
    "    y = ds['label']\n",
    "    x = ds['message']"
   ]
  },
  {
   "cell_type": "code",
   "execution_count": 5,
   "metadata": {},
   "outputs": [],
   "source": [
    "def _vectorizer():\n",
    "    global X\n",
    "    vec = TfidfVectorizer()\n",
    "    X = vec.fit_transform(x)"
   ]
  },
  {
   "cell_type": "code",
   "execution_count": 6,
   "metadata": {},
   "outputs": [],
   "source": [
    "def _split(size):\n",
    "    global x_train, x_test, y_train, y_test\n",
    "    x_train, x_test, y_train, y_test = train_test_split(X, y, test_size=size)"
   ]
  },
  {
   "cell_type": "code",
   "execution_count": 7,
   "metadata": {},
   "outputs": [],
   "source": [
    "def _createModel():\n",
    "    global model\n",
    "    model = MultinomialNB()"
   ]
  },
  {
   "cell_type": "code",
   "execution_count": 8,
   "metadata": {},
   "outputs": [],
   "source": [
    "def _fit():\n",
    "    model.fit(x_train, y_train)"
   ]
  },
  {
   "cell_type": "code",
   "execution_count": 9,
   "metadata": {},
   "outputs": [],
   "source": [
    "def _predict():\n",
    "    global y_pred\n",
    "    y_pred = model.predict(x_test)"
   ]
  },
  {
   "cell_type": "code",
   "execution_count": 10,
   "metadata": {},
   "outputs": [],
   "source": [
    "def _cm():\n",
    "    global cm, disp\n",
    "    cm = confusion_matrix(y_test, y_pred)\n",
    "    disp = ConfusionMatrixDisplay(cm, display_labels=['ham', 'spam'])"
   ]
  },
  {
   "cell_type": "code",
   "execution_count": 11,
   "metadata": {},
   "outputs": [],
   "source": [
    "def _score():\n",
    "    precisionHam = cm[0][0] /( cm[0][0] + cm[1][0])\n",
    "    recallHam = cm[0][0] /( cm[0][0] + cm[0][1])\n",
    "    f1Ham = (2 * precisionHam * recallHam) / (precisionHam + recallHam)\n",
    "    supportHam = cm[0][0] + cm[0][1]    \n",
    "\n",
    "    precisionSpam = cm[1][1] /( cm[1][1] + cm[0][1])\n",
    "    recallSpam = cm[1][1] /( cm[1][1] + cm[1][0])\n",
    "    f1Spam = (2 * precisionSpam * recallSpam) / (precisionSpam + recallSpam)\n",
    "    supportSpam = cm[1][0] + cm[1][1]\n",
    "\n",
    "    allSupport = (cm[0][0] + cm[0][1] + cm[1][0] + cm[1][1])\n",
    "    accuracy = (cm[0][0] + cm[1][1]) / allSupport\n",
    "\n",
    "    macro_avg_precision = (precisionHam + precisionSpam) / 2\n",
    "    macro_avg_recall = (recallHam + recallSpam) / 2\n",
    "    macro_avg_f1 = (f1Ham + f1Spam) / 2\n",
    "\n",
    "    weighted_avg_precision = (precisionHam * supportHam + precisionSpam * supportSpam) / allSupport\n",
    "    weighted_avg_recall = (recallHam * supportHam + recallSpam * supportSpam) / allSupport\n",
    "    weighted_avg_f1 = (f1Ham * supportHam + f1Spam * supportSpam) / allSupport\n",
    "\n",
    "    print(\"\\t\\tPrecision \\tRecall \\tF1-score \\tSupport\")\n",
    "    print(f\"Ham    \\t\\t{precisionHam:.2f} \\t\\t{recallHam:.2f} \\t{f1Ham:.2f} \\t\\t{supportHam}\")\n",
    "    print(f\"Spam   \\t\\t{precisionSpam:.2f} \\t\\t{recallSpam:.2f} \\t{f1Spam:.2f} \\t\\t{supportSpam}\")\n",
    "    print(f\"Accuracy\\t\\t\\t\\t{accuracy:.2f}\\t\\t{allSupport}\")\n",
    "    print(f\"Macro avg\\t{macro_avg_precision:.2f} \\t\\t{macro_avg_recall:.2f} \\t{macro_avg_f1:.2f} \\t\\t{allSupport}\")\n",
    "    print(f\"Weighted avg\\t{weighted_avg_precision:.2f} \\t\\t{weighted_avg_recall:.2f} \\t{weighted_avg_f1:.2f} \\t\\t{allSupport}\")"
   ]
  },
  {
   "cell_type": "code",
   "execution_count": 12,
   "metadata": {},
   "outputs": [],
   "source": [
    "def _report():\n",
    "    global report\n",
    "    report = classification_report(y_test, y_pred)"
   ]
  },
  {
   "cell_type": "code",
   "execution_count": 13,
   "metadata": {},
   "outputs": [],
   "source": [
    "_importData()\n",
    "_preprocess()\n",
    "_changelabel()\n",
    "_vectorizer()\n",
    "_split(0.3)\n",
    "_createModel()\n",
    "_fit()\n",
    "_predict()\n",
    "_cm()\n",
    "_report()\n"
   ]
  },
  {
   "cell_type": "code",
   "execution_count": 14,
   "metadata": {},
   "outputs": [
    {
     "data": {
      "text/plain": [
       "<5572x9326 sparse matrix of type '<class 'numpy.float64'>'\n",
       "\twith 45518 stored elements in Compressed Sparse Row format>"
      ]
     },
     "execution_count": 14,
     "metadata": {},
     "output_type": "execute_result"
    }
   ],
   "source": [
    "X"
   ]
  },
  {
   "cell_type": "code",
   "execution_count": 15,
   "metadata": {},
   "outputs": [
    {
     "name": "stdout",
     "output_type": "stream",
     "text": [
      "\t\tPrecision \tRecall \tF1-score \tSupport\n",
      "Ham    \t\t0.95 \t\t1.00 \t0.97 \t\t1446\n",
      "Spam   \t\t1.00 \t\t0.66 \t0.80 \t\t226\n",
      "Accuracy\t\t\t\t0.95\t\t1672\n",
      "Macro avg\t0.98 \t\t0.83 \t0.89 \t\t1672\n",
      "Weighted avg\t0.96 \t\t0.95 \t0.95 \t\t1672\n",
      "              precision    recall  f1-score   support\n",
      "\n",
      "           0       0.95      1.00      0.97      1446\n",
      "           1       1.00      0.66      0.80       226\n",
      "\n",
      "    accuracy                           0.95      1672\n",
      "   macro avg       0.98      0.83      0.89      1672\n",
      "weighted avg       0.96      0.95      0.95      1672\n",
      "\n"
     ]
    }
   ],
   "source": [
    "_score()\n",
    "print(report)"
   ]
  },
  {
   "cell_type": "code",
   "execution_count": 16,
   "metadata": {},
   "outputs": [
    {
     "data": {
      "text/plain": [
       "<sklearn.metrics._plot.confusion_matrix.ConfusionMatrixDisplay at 0x2425846d5e0>"
      ]
     },
     "execution_count": 16,
     "metadata": {},
     "output_type": "execute_result"
    },
    {
     "data": {
      "image/png": "[encoded data removed]",
      "text/plain": [
       "<Figure size 640x480 with 2 Axes>"
      ]
     },
     "metadata": {},
     "output_type": "display_data"
    }
   ],
   "source": [
    "disp.plot()"
   ]
  }
 ],
 "metadata": {
  "kernelspec": {
   "display_name": "Python 3",
   "language": "python",
   "name": "python3"
  },
  "language_info": {
   "codemirror_mode": {
    "name": "ipython",
    "version": 3
   },
   "file_extension": ".py",
   "mimetype": "text/x-python",
   "name": "python",
   "nbconvert_exporter": "python",
   "pygments_lexer": "ipython3",
   "version": "3.12.1"
  }
 },
 "nbformat": 4,
 "nbformat_minor": 2
}
