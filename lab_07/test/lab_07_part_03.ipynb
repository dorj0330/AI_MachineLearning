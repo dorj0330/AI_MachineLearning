{
 "cells": [
  {
   "cell_type": "code",
   "execution_count": 12,
   "metadata": {},
   "outputs": [],
   "source": [
    "import os\n",
    "import numpy as np\n",
    "import pandas as pd\n",
    "from skimage import io, color, transform\n",
    "from sklearn.svm import SVC\n",
    "from sklearn.metrics import classification_report"
   ]
  },
  {
   "cell_type": "code",
   "execution_count": 13,
   "metadata": {},
   "outputs": [],
   "source": [
    "# path = 'Images/test_set/dogs/dog.4005.jpg'\n",
    "# img = io.imread(path)\n",
    "# img_resize = resize(img, (150, 150, 3))\n",
    "# img_gray = color.rgb2gray(img_resize)\n",
    "# io.imshow(img_gray)\n",
    "# io.show()"
   ]
  },
  {
   "cell_type": "code",
   "execution_count": 14,
   "metadata": {},
   "outputs": [],
   "source": [
    "def _importData(categories, folder):\n",
    "    img_array = []\n",
    "    img_outcome = []\n",
    "    for i in categories:\n",
    "        path = os.path.join(folder, i)\n",
    "        for pic in os.listdir(path):\n",
    "            img = io.imread(os.path.join(path, pic))\n",
    "            img_array.append(img)\n",
    "            # Outcome: cat:0 dog:1\n",
    "            img_outcome.append(categories.index(i))\n",
    "    return img_array, img_outcome"
   ]
  },
  {
   "cell_type": "code",
   "execution_count": 15,
   "metadata": {},
   "outputs": [],
   "source": [
    "def _resize(images, size=(150, 150)):\n",
    "    resized_images = []\n",
    "    for img in images:\n",
    "        resized_img = transform.resize(img, size)\n",
    "        resized_images.append(resized_img)\n",
    "    return resized_images"
   ]
  },
  {
   "cell_type": "code",
   "execution_count": 16,
   "metadata": {},
   "outputs": [],
   "source": [
    "\n",
    "def _grayscale(images):\n",
    "    grayscale_images = []\n",
    "    for img in images:\n",
    "        grayscale_img = color.rgb2gray(img)\n",
    "        grayscale_images.append(grayscale_img)\n",
    "    return grayscale_images"
   ]
  },
  {
   "cell_type": "code",
   "execution_count": 17,
   "metadata": {},
   "outputs": [],
   "source": [
    "def _flatten(images):\n",
    "    flattened_images = []\n",
    "    for img in images:\n",
    "        flattened_img = img.flatten()\n",
    "        flattened_images.append(flattened_img)\n",
    "    return flattened_images"
   ]
  },
  {
   "cell_type": "code",
   "execution_count": 18,
   "metadata": {},
   "outputs": [],
   "source": [
    "def _createModel():\n",
    "    return SVC()"
   ]
  },
  {
   "cell_type": "code",
   "execution_count": 19,
   "metadata": {},
   "outputs": [],
   "source": [
    "def _fit(model, x, y):\n",
    "    model.fit(x, y)"
   ]
  },
  {
   "cell_type": "code",
   "execution_count": 20,
   "metadata": {},
   "outputs": [],
   "source": [
    "def _predict(model, x):\n",
    "    return model.predict(x)"
   ]
  },
  {
   "cell_type": "code",
   "execution_count": 21,
   "metadata": {},
   "outputs": [],
   "source": [
    "def _report(y_true, y_pred):\n",
    "    return classification_report(y_true, y_pred)"
   ]
  },
  {
   "cell_type": "code",
   "execution_count": 22,
   "metadata": {},
   "outputs": [],
   "source": [
    "categories = ['cats', 'dogs']\n",
    "folder = 'Images/'\n",
    "x_train, y_train = _importData(categories, folder)\n",
    "x_train = _resize(x_train)\n",
    "x_train = _grayscale(x_train)\n",
    "x_train = _flatten(x_train)\n",
    "model = _createModel()\n",
    "_fit(model, x_train, y_train)"
   ]
  },
  {
   "cell_type": "code",
   "execution_count": 23,
   "metadata": {},
   "outputs": [
    {
     "name": "stdout",
     "output_type": "stream",
     "text": [
      "              precision    recall  f1-score   support\n",
      "\n",
      "           0       0.56      0.45      0.50        20\n",
      "           1       0.54      0.65      0.59        20\n",
      "\n",
      "    accuracy                           0.55        40\n",
      "   macro avg       0.55      0.55      0.55        40\n",
      "weighted avg       0.55      0.55      0.55        40\n",
      "\n"
     ]
    }
   ],
   "source": [
    "folder = 'Images/test_set/'\n",
    "x_test, y_test = _importData(categories, folder)\n",
    "x_test = _resize(x_test)\n",
    "x_test = _grayscale(x_test)\n",
    "x_test = _flatten(x_test)\n",
    "y_pred = _predict(model, x_test)\n",
    "report = _report(y_test, y_pred)\n",
    "print(report)"
   ]
  }
 ],
 "metadata": {
  "kernelspec": {
   "display_name": "Python 3",
   "language": "python",
   "name": "python3"
  },
  "language_info": {
   "codemirror_mode": {
    "name": "ipython",
    "version": 3
   },
   "file_extension": ".py",
   "mimetype": "text/x-python",
   "name": "python",
   "nbconvert_exporter": "python",
   "pygments_lexer": "ipython3",
   "version": "3.12.1"
  }
 },
 "nbformat": 4,
 "nbformat_minor": 2
}
